{
 "cells": [
  {
   "cell_type": "code",
   "execution_count": 11,
   "metadata": {
    "pycharm": {
     "name": "#%%\n"
    }
   },
   "outputs": [
    {
     "name": "stdout",
     "output_type": "stream",
     "text": [
      "Requirement already satisfied: import_ipynb in /Users/i516344/.conda/envs/pythonProject/lib/python3.8/site-packages (0.1.3)\r\n"
     ]
    }
   ],
   "source": [
    "import os\n",
    "import pandas as pd\n",
    "import numpy as np\n",
    "!pip install import_ipynb\n",
    "import import_ipynb\n",
    "from customer_data_prep import CustomerData\n",
    "from image_data_split import SplitImages\n",
    "from os import listdir, walk\n",
    "from os.path import isfile, join"
   ]
  },
  {
   "cell_type": "code",
   "execution_count": 12,
   "metadata": {
    "pycharm": {
     "name": "#%%\n"
    }
   },
   "outputs": [],
   "source": [
    "store = pd.HDFStore('data_store.h5')\n"
   ]
  },
  {
   "cell_type": "code",
   "execution_count": 33,
   "metadata": {
    "pycharm": {
     "name": "#%%\n"
    }
   },
   "outputs": [],
   "source": [
    "class ImageData:\n",
    "    def __init__(self):\n",
    "        self.data_key = 'images'\n",
    "        try:\n",
    "            self.data = store[self.data_key]\n",
    "        except:\n",
    "            image_dir = os.getcwd()\n",
    "            image_data = pd.DataFrame()\n",
    "            images = []\n",
    "            for r, d, f in os.walk(image_dir):\n",
    "                for file in f:\n",
    "                    if file.endswith(\".jpg\"):\n",
    "                        full_path = os.path.join(r, file)\n",
    "                        images.append(os.path.relpath(full_path, image_dir))\n",
    "            image_data['images'] = images\n",
    "            store[self.data_key] = image_data\n",
    "            self.data = store[self.data_key]\n",
    "            customer_data = CustomerData()\n",
    "            self.customer_ids = customer_data.get_customer_ids()\n",
    "            self.allot_id()\n",
    "    def allot_id(self):\n",
    "        np.random.seed(0)\n",
    "        random_ids = np.random.choice(self.customer_ids, len(self.data[self.data_key]))\n",
    "        self.data['customer_id'] = random_ids\n",
    "        store[self.data_key] = self.data\n",
    "        \n",
    "\n"
   ]
  },
  {
   "cell_type": "code",
   "execution_count": 46,
   "metadata": {},
   "outputs": [],
   "source": [
    "images = store['images']\n"
   ]
  },
  {
   "cell_type": "code",
   "execution_count": 47,
   "metadata": {},
   "outputs": [],
   "source": [
    "CLASS_NAME = 'print_style'\n",
    "CLASSES = ['abstract', 'floral', 'classic', 'stripe' ]"
   ]
  },
  {
   "cell_type": "code",
   "execution_count": 48,
   "metadata": {
    "scrolled": false
   },
   "outputs": [],
   "source": [
    "class_name = CLASS_NAME\n",
    "classes    = CLASSES\n",
    "images     = images['images']"
   ]
  },
  {
   "cell_type": "code",
   "execution_count": 49,
   "metadata": {},
   "outputs": [],
   "source": [
    "split_images = SplitImages(class_name, classes, images)"
   ]
  },
  {
   "cell_type": "code",
   "execution_count": 50,
   "metadata": {},
   "outputs": [],
   "source": [
    "x = split_images.prepare()"
   ]
  },
  {
   "cell_type": "code",
   "execution_count": 53,
   "metadata": {},
   "outputs": [
    {
     "name": "stdout",
     "output_type": "stream",
     "text": [
      "image_count: 500 train_count 280 test_count 100 val_count 120\n"
     ]
    }
   ],
   "source": [
    "train_img, val_img, test_img = split_images.split(x, 0.2, 0.3, 500, '/Users/i516344/PycharmProjects/pythonProject/fashion')"
   ]
  },
  {
   "cell_type": "code",
   "execution_count": 54,
   "metadata": {},
   "outputs": [],
   "source": [
    "#Testing do not rerun\n",
    "train_image_data = pd.DataFrame.from_dict(train_img)\n",
    "test_image_data = pd.DataFrame.from_dict(test_img)\n",
    "val_image_data = pd.DataFrame.from_dict(val_img)\n",
    "\n",
    "store[\"train500\"] = train_image_data\n",
    "store[\"val500\"] = val_image_data\n",
    "store[\"test500\"] = test_image_data\n",
    "\n"
   ]
  },
  {
   "cell_type": "code",
   "execution_count": 55,
   "metadata": {},
   "outputs": [
    {
     "name": "stdout",
     "output_type": "stream",
     "text": [
      "100\n"
     ]
    }
   ],
   "source": [
    "print(len(test_img['abstract']))"
   ]
  },
  {
   "cell_type": "code",
   "execution_count": 32,
   "metadata": {},
   "outputs": [
    {
     "data": {
      "text/plain": [
       "'img/Abstract_Print_Buttoned_Romper/img_00000037.jpg'"
      ]
     },
     "execution_count": 32,
     "metadata": {},
     "output_type": "execute_result"
    }
   ],
   "source": [
    "i = store['images']"
   ]
  },
  {
   "cell_type": "code",
   "execution_count": 22,
   "metadata": {},
   "outputs": [
    {
     "data": {
      "text/html": [
       "<div>\n",
       "<style scoped>\n",
       "    .dataframe tbody tr th:only-of-type {\n",
       "        vertical-align: middle;\n",
       "    }\n",
       "\n",
       "    .dataframe tbody tr th {\n",
       "        vertical-align: top;\n",
       "    }\n",
       "\n",
       "    .dataframe thead th {\n",
       "        text-align: right;\n",
       "    }\n",
       "</style>\n",
       "<table border=\"1\" class=\"dataframe\">\n",
       "  <thead>\n",
       "    <tr style=\"text-align: right;\">\n",
       "      <th></th>\n",
       "      <th>images</th>\n",
       "      <th>customer_id</th>\n",
       "    </tr>\n",
       "  </thead>\n",
       "  <tbody>\n",
       "    <tr>\n",
       "      <th>258213</th>\n",
       "      <td>img/Abstract-Watercolor_Print_Blouse/img_00000...</td>\n",
       "      <td>R2X76IEDRZJ3QX</td>\n",
       "    </tr>\n",
       "  </tbody>\n",
       "</table>\n",
       "</div>"
      ],
      "text/plain": [
       "                                                   images     customer_id\n",
       "258213  img/Abstract-Watercolor_Print_Blouse/img_00000...  R2X76IEDRZJ3QX"
      ]
     },
     "execution_count": 22,
     "metadata": {},
     "output_type": "execute_result"
    }
   ],
   "source": [
    "i.loc[i['images'] == 'img/Abstract-Watercolor_Print_Blouse/img_00000015.jpg']"
   ]
  },
  {
   "cell_type": "code",
   "execution_count": 23,
   "metadata": {},
   "outputs": [],
   "source": [
    "c = store['customer_data']"
   ]
  },
  {
   "cell_type": "code",
   "execution_count": 24,
   "metadata": {},
   "outputs": [
    {
     "data": {
      "text/html": [
       "<div>\n",
       "<style scoped>\n",
       "    .dataframe tbody tr th:only-of-type {\n",
       "        vertical-align: middle;\n",
       "    }\n",
       "\n",
       "    .dataframe tbody tr th {\n",
       "        vertical-align: top;\n",
       "    }\n",
       "\n",
       "    .dataframe thead th {\n",
       "        text-align: right;\n",
       "    }\n",
       "</style>\n",
       "<table border=\"1\" class=\"dataframe\">\n",
       "  <thead>\n",
       "    <tr style=\"text-align: right;\">\n",
       "      <th></th>\n",
       "      <th>marketplace</th>\n",
       "      <th>transaction_id</th>\n",
       "      <th>customer_id</th>\n",
       "      <th>product_id</th>\n",
       "      <th>product_title</th>\n",
       "      <th>age</th>\n",
       "      <th>gender</th>\n",
       "    </tr>\n",
       "  </thead>\n",
       "  <tbody>\n",
       "    <tr>\n",
       "      <th>1887839</th>\n",
       "      <td>US</td>\n",
       "      <td>38120056</td>\n",
       "      <td>R2X76IEDRZJ3QX</td>\n",
       "      <td>B00GSM24E4</td>\n",
       "      <td>Glamorise Women's Plus-Size Magic Lift Posture...</td>\n",
       "      <td>35</td>\n",
       "      <td>0</td>\n",
       "    </tr>\n",
       "  </tbody>\n",
       "</table>\n",
       "</div>"
      ],
      "text/plain": [
       "        marketplace  transaction_id     customer_id  product_id  \\\n",
       "1887839          US        38120056  R2X76IEDRZJ3QX  B00GSM24E4   \n",
       "\n",
       "                                             product_title  age  gender  \n",
       "1887839  Glamorise Women's Plus-Size Magic Lift Posture...   35       0  "
      ]
     },
     "execution_count": 24,
     "metadata": {},
     "output_type": "execute_result"
    }
   ],
   "source": [
    "c.loc[c['customer_id'] == 'R2X76IEDRZJ3QX']"
   ]
  },
  {
   "cell_type": "code",
   "execution_count": 25,
   "metadata": {},
   "outputs": [
    {
     "data": {
      "text/plain": [
       "'img/Floral-Embroidered_Faux_Leather_Skirt/img_00000008.jpg'"
      ]
     },
     "execution_count": 25,
     "metadata": {},
     "output_type": "execute_result"
    }
   ],
   "source": [
    "train_img['floral'][0]"
   ]
  },
  {
   "cell_type": "code",
   "execution_count": null,
   "metadata": {},
   "outputs": [],
   "source": []
  }
 ],
 "metadata": {
  "kernelspec": {
   "display_name": "Python 3",
   "language": "python",
   "name": "python3"
  },
  "language_info": {
   "codemirror_mode": {
    "name": "ipython",
    "version": 3
   },
   "file_extension": ".py",
   "mimetype": "text/x-python",
   "name": "python",
   "nbconvert_exporter": "python",
   "pygments_lexer": "ipython3",
   "version": "3.8.5"
  }
 },
 "nbformat": 4,
 "nbformat_minor": 1
}