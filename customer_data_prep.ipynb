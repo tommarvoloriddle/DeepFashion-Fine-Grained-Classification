{
 "cells": [
  {
   "cell_type": "code",
   "execution_count": null,
   "metadata": {
    "pycharm": {
     "is_executing": true
    }
   },
   "outputs": [],
   "source": [
    "import pandas as pd\n",
    "import numpy as np\n",
    "\n"
   ]
  },
  {
   "cell_type": "code",
   "execution_count": null,
   "metadata": {
    "pycharm": {
     "name": "#%%\n",
     "is_executing": true
    }
   },
   "outputs": [],
   "source": [
    "PATH = '/Users/i516344/Downloads/reviews.tsv'\n",
    "store = pd.HDFStore('data_store.h5')"
   ]
  },
  {
   "cell_type": "code",
   "execution_count": null,
   "metadata": {
    "pycharm": {
     "name": "#%%\n",
     "is_executing": true
    }
   },
   "outputs": [],
   "source": [
    "class CustomerData:\n",
    "    def __init__(self):\n",
    "        self.data_key = 'customer_data'\n",
    "        try:\n",
    "            self.data = store[self.data_key]\n",
    "        except:\n",
    "            reviews = pd.read_csv(PATH, sep='\\t', error_bad_lines=False)  # first run\n",
    "            store[self.data_key] = reviews.sample(n=100000, random_state=999)\n",
    "            self.data = store[self.data_key]\n",
    "            self.drop_data()\n",
    "            self.add_data()\n",
    "            self.rename_columns()\n",
    "            store[self.data_key] = self.data\n",
    "\n",
    "    def drop_data(self):\n",
    "        self.data.drop([\"product_category\", \"review_headline\", \"review_body\", \"review_date\", \n",
    "                        \"verified_purchase\", \"total_votes\", \"star_rating\", \"product_parent\", \n",
    "                        \"vine\", \"helpful_votes\"], axis = 1, inplace = True)\n",
    "\n",
    "    def add_data(self):\n",
    "        np.random.seed(0)\n",
    "        age = np.random.randint(18, 60, 100000)\n",
    "        self.data[\"age\"] = age\n",
    "        np.random.seed(0)\n",
    "        gender = np.random.randint(0, 1, 100000)\n",
    "        self.data[\"gender\"] = gender\n",
    "\n",
    "    def rename_columns(self):\n",
    "        self.data.rename(columns = {'customer_id':'transaction_id'}, inplace = True)\n",
    "        self.data.rename(columns = {'review_id':'customer_id'}, inplace = True)\n",
    "\n",
    "    def get_customer_ids(self):\n",
    "        return self.data[\"customer_id\"]"
   ]
  },
  {
   "cell_type": "code",
   "execution_count": null,
   "metadata": {
    "pycharm": {
     "is_executing": true
    }
   },
   "outputs": [],
   "source": []
  }
 ],
 "metadata": {
  "kernelspec": {
   "display_name": "Python 3",
   "language": "python",
   "name": "python3"
  },
  "language_info": {
   "codemirror_mode": {
    "name": "ipython",
    "version": 3
   },
   "file_extension": ".py",
   "mimetype": "text/x-python",
   "name": "python",
   "nbconvert_exporter": "python",
   "pygments_lexer": "ipython3",
   "version": "3.8.5"
  }
 },
 "nbformat": 4,
 "nbformat_minor": 1
}